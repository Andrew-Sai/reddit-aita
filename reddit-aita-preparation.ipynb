{
 "cells": [
  {
   "cell_type": "code",
   "execution_count": 2,
   "metadata": {},
   "outputs": [
    {
     "name": "stderr",
     "output_type": "stream",
     "text": [
      "[nltk_data] Downloading package stopwords to C:\\Users\\Andrew\n",
      "[nltk_data]     Sai\\AppData\\Roaming\\nltk_data...\n",
      "[nltk_data]   Package stopwords is already up-to-date!\n",
      "[nltk_data] Downloading package wordnet to C:\\Users\\Andrew\n",
      "[nltk_data]     Sai\\AppData\\Roaming\\nltk_data...\n",
      "[nltk_data]   Package wordnet is already up-to-date!\n"
     ]
    }
   ],
   "source": [
    "import pandas as pd\n",
    "import numpy as np\n",
    "import re\n",
    "import nltk\n",
    "from nltk.tokenize import RegexpTokenizer\n",
    "from nltk.tokenize import word_tokenize\n",
    "from nltk.stem import WordNetLemmatizer\n",
    "from nltk.corpus import stopwords\n",
    "nltk.download('stopwords')\n",
    "nltk.download('wordnet')\n",
    "import statistics\n",
    "import _pickle as pickle\n",
    "import json\n",
    "import csv\n",
    "from PIL import Image\n",
    "from wordcloud import WordCloud, STOPWORDS, ImageColorGenerator\n",
    "import matplotlib.pyplot as plt\n",
    "import seaborn as sns\n",
    "plt.style.use('seaborn')"
   ]
  },
  {
   "cell_type": "code",
   "execution_count": 3,
   "metadata": {
    "scrolled": true
   },
   "outputs": [
    {
     "name": "stdout",
     "output_type": "stream",
     "text": [
      "The size of the dataframe is (943, 16).\n"
     ]
    },
    {
     "data": {
      "text/html": [
       "<div>\n",
       "<style scoped>\n",
       "    .dataframe tbody tr th:only-of-type {\n",
       "        vertical-align: middle;\n",
       "    }\n",
       "\n",
       "    .dataframe tbody tr th {\n",
       "        vertical-align: top;\n",
       "    }\n",
       "\n",
       "    .dataframe thead th {\n",
       "        text-align: right;\n",
       "    }\n",
       "</style>\n",
       "<table border=\"1\" class=\"dataframe\">\n",
       "  <thead>\n",
       "    <tr style=\"text-align: right;\">\n",
       "      <th></th>\n",
       "      <th>Unnamed: 0</th>\n",
       "      <th>title</th>\n",
       "      <th>author</th>\n",
       "      <th>likes</th>\n",
       "      <th>comments</th>\n",
       "      <th>story</th>\n",
       "      <th>user_comment1</th>\n",
       "      <th>user_comment2</th>\n",
       "      <th>user_comment3</th>\n",
       "      <th>user_comment4</th>\n",
       "      <th>user_comment5</th>\n",
       "      <th>user_comment6</th>\n",
       "      <th>user_comment7</th>\n",
       "      <th>user_comment8</th>\n",
       "      <th>user_comment9</th>\n",
       "      <th>user_comment10</th>\n",
       "    </tr>\n",
       "  </thead>\n",
       "  <tbody>\n",
       "    <tr>\n",
       "      <th>0</th>\n",
       "      <td>0</td>\n",
       "      <td>UPDATE, AITA for despising my mentally handica...</td>\n",
       "      <td>Renegadesrule33</td>\n",
       "      <td>71.4k</td>\n",
       "      <td>2019</td>\n",
       "      <td>I'm back like I said I would be,. My original ...</td>\n",
       "      <td>I'm back like I said I would be,. My original ...</td>\n",
       "      <td>Wow. OP's grandfather is a saint.\\r\\n</td>\n",
       "      <td>Too right my guy, the sad thing is is that he ...</td>\n",
       "      <td>Reminds me of my wife's parents in a way.  She...</td>\n",
       "      <td>This happened to an ex of mine. Her step fathe...</td>\n",
       "      <td>That's a good story, always nice to hear a sto...</td>\n",
       "      <td>wait, you adopted your ex?\\r\\n</td>\n",
       "      <td>His parents did, while they were together in o...</td>\n",
       "      <td>Yes this, i was 16 at the time she was 15. Unl...</td>\n",
       "      <td>She's not like family. She's your sister. I'm ...</td>\n",
       "    </tr>\n",
       "    <tr>\n",
       "      <th>1</th>\n",
       "      <td>1</td>\n",
       "      <td>UPDATE: AITA for wanting to go to the funeral ...</td>\n",
       "      <td>sgdneyrother</td>\n",
       "      <td>63.8k</td>\n",
       "      <td>2</td>\n",
       "      <td>I want to sincerely thank everyone who comment...</td>\n",
       "      <td>I want to sincerely thank everyone who comment...</td>\n",
       "      <td>We've chosen to lock this update due to the hi...</td>\n",
       "      <td>NaN</td>\n",
       "      <td>NaN</td>\n",
       "      <td>NaN</td>\n",
       "      <td>NaN</td>\n",
       "      <td>NaN</td>\n",
       "      <td>NaN</td>\n",
       "      <td>NaN</td>\n",
       "      <td>NaN</td>\n",
       "    </tr>\n",
       "    <tr>\n",
       "      <th>2</th>\n",
       "      <td>2</td>\n",
       "      <td>META: Too many AITA commenters advocate too qu...</td>\n",
       "      <td>Cosmohumanist</td>\n",
       "      <td>52.7k</td>\n",
       "      <td>1646</td>\n",
       "      <td>I’ve become frustrated with how quick a lot of...</td>\n",
       "      <td>I’ve become frustrated with how quick a lot of...</td>\n",
       "      <td>Sometimes I'm surprised by how quickly people ...</td>\n",
       "      <td>Totally agree. And I absolutely appreciate the...</td>\n",
       "      <td>I think that it's only because the most logica...</td>\n",
       "      <td>Leaving a truly bad situation is necessary and...</td>\n",
       "      <td>\\r\\nMy issue is when we equate difficult with ...</td>\n",
       "      <td>I think a huge part of the problem is that if ...</td>\n",
       "      <td>The biggest lesson about love I’ve learned the...</td>\n",
       "      <td>When people come to r/relationship_advice, the...</td>\n",
       "      <td>Thanks for taking that time for your reply.\\r\\...</td>\n",
       "    </tr>\n",
       "    <tr>\n",
       "      <th>3</th>\n",
       "      <td>3</td>\n",
       "      <td>AITA for telling my extended family how many m...</td>\n",
       "      <td>Thunderbear998</td>\n",
       "      <td>48.1k</td>\n",
       "      <td>5401</td>\n",
       "      <td>We had a family dinner this evening. My family...</td>\n",
       "      <td>We had a family dinner this evening. My family...</td>\n",
       "      <td>I think everything that needs to be said on ei...</td>\n",
       "      <td>ESH One person making personal attacks doesn’t...</td>\n",
       "      <td>Yeah ESH seems right, not cool of her to be go...</td>\n",
       "      <td>I’ll never understand why people with bigger s...</td>\n",
       "      <td>It's possible that they don't think people wil...</td>\n",
       "      <td>Some kind of \"too big to fail\"? Their skeleton...</td>\n",
       "      <td>That’s a decent point that I hadn’t considered...</td>\n",
       "      <td>Bullies tend to think they are invulnerable ti...</td>\n",
       "      <td>not necessarily the better person - just a \"co...</td>\n",
       "    </tr>\n",
       "    <tr>\n",
       "      <th>4</th>\n",
       "      <td>4</td>\n",
       "      <td>AITA for despising my mentally handicap sister?</td>\n",
       "      <td>Renegadesrule33</td>\n",
       "      <td>46.2k</td>\n",
       "      <td>2764</td>\n",
       "      <td>The title makes me sound horrible but hear me ...</td>\n",
       "      <td>The title makes me sound horrible but hear me ...</td>\n",
       "      <td>If you want your comment to count toward judgm...</td>\n",
       "      <td>NTA. These are perfectly legitimate and unders...</td>\n",
       "      <td>Hey, autistic guy here, can confirm that OP is...</td>\n",
       "      <td>Thank you for sharing and being so open! It so...</td>\n",
       "      <td>No problem at all! And i can kinda relate to h...</td>\n",
       "      <td>Hi! Former genetic engineering major here! Swi...</td>\n",
       "      <td>But you can cure autism by just not getting va...</td>\n",
       "      <td>LMAO I’m gonna be loving it if the “cure” is a...</td>\n",
       "      <td>Given what the commented said further up I can...</td>\n",
       "    </tr>\n",
       "  </tbody>\n",
       "</table>\n",
       "</div>"
      ],
      "text/plain": [
       "   Unnamed: 0                                              title  \\\n",
       "0           0  UPDATE, AITA for despising my mentally handica...   \n",
       "1           1  UPDATE: AITA for wanting to go to the funeral ...   \n",
       "2           2  META: Too many AITA commenters advocate too qu...   \n",
       "3           3  AITA for telling my extended family how many m...   \n",
       "4           4   AITA for despising my mentally handicap sister?    \n",
       "\n",
       "            author  likes  comments  \\\n",
       "0  Renegadesrule33  71.4k      2019   \n",
       "1     sgdneyrother  63.8k         2   \n",
       "2    Cosmohumanist  52.7k      1646   \n",
       "3   Thunderbear998  48.1k      5401   \n",
       "4  Renegadesrule33  46.2k      2764   \n",
       "\n",
       "                                               story  \\\n",
       "0  I'm back like I said I would be,. My original ...   \n",
       "1  I want to sincerely thank everyone who comment...   \n",
       "2  I’ve become frustrated with how quick a lot of...   \n",
       "3  We had a family dinner this evening. My family...   \n",
       "4  The title makes me sound horrible but hear me ...   \n",
       "\n",
       "                                       user_comment1  \\\n",
       "0  I'm back like I said I would be,. My original ...   \n",
       "1  I want to sincerely thank everyone who comment...   \n",
       "2  I’ve become frustrated with how quick a lot of...   \n",
       "3  We had a family dinner this evening. My family...   \n",
       "4  The title makes me sound horrible but hear me ...   \n",
       "\n",
       "                                       user_comment2  \\\n",
       "0              Wow. OP's grandfather is a saint.\\r\\n   \n",
       "1  We've chosen to lock this update due to the hi...   \n",
       "2  Sometimes I'm surprised by how quickly people ...   \n",
       "3  I think everything that needs to be said on ei...   \n",
       "4  If you want your comment to count toward judgm...   \n",
       "\n",
       "                                       user_comment3  \\\n",
       "0  Too right my guy, the sad thing is is that he ...   \n",
       "1                                                NaN   \n",
       "2  Totally agree. And I absolutely appreciate the...   \n",
       "3  ESH One person making personal attacks doesn’t...   \n",
       "4  NTA. These are perfectly legitimate and unders...   \n",
       "\n",
       "                                       user_comment4  \\\n",
       "0  Reminds me of my wife's parents in a way.  She...   \n",
       "1                                                NaN   \n",
       "2  I think that it's only because the most logica...   \n",
       "3  Yeah ESH seems right, not cool of her to be go...   \n",
       "4  Hey, autistic guy here, can confirm that OP is...   \n",
       "\n",
       "                                       user_comment5  \\\n",
       "0  This happened to an ex of mine. Her step fathe...   \n",
       "1                                                NaN   \n",
       "2  Leaving a truly bad situation is necessary and...   \n",
       "3  I’ll never understand why people with bigger s...   \n",
       "4  Thank you for sharing and being so open! It so...   \n",
       "\n",
       "                                       user_comment6  \\\n",
       "0  That's a good story, always nice to hear a sto...   \n",
       "1                                                NaN   \n",
       "2  \\r\\nMy issue is when we equate difficult with ...   \n",
       "3  It's possible that they don't think people wil...   \n",
       "4  No problem at all! And i can kinda relate to h...   \n",
       "\n",
       "                                       user_comment7  \\\n",
       "0                     wait, you adopted your ex?\\r\\n   \n",
       "1                                                NaN   \n",
       "2  I think a huge part of the problem is that if ...   \n",
       "3  Some kind of \"too big to fail\"? Their skeleton...   \n",
       "4  Hi! Former genetic engineering major here! Swi...   \n",
       "\n",
       "                                       user_comment8  \\\n",
       "0  His parents did, while they were together in o...   \n",
       "1                                                NaN   \n",
       "2  The biggest lesson about love I’ve learned the...   \n",
       "3  That’s a decent point that I hadn’t considered...   \n",
       "4  But you can cure autism by just not getting va...   \n",
       "\n",
       "                                       user_comment9  \\\n",
       "0  Yes this, i was 16 at the time she was 15. Unl...   \n",
       "1                                                NaN   \n",
       "2  When people come to r/relationship_advice, the...   \n",
       "3  Bullies tend to think they are invulnerable ti...   \n",
       "4  LMAO I’m gonna be loving it if the “cure” is a...   \n",
       "\n",
       "                                      user_comment10  \n",
       "0  She's not like family. She's your sister. I'm ...  \n",
       "1                                                NaN  \n",
       "2  Thanks for taking that time for your reply.\\r\\...  \n",
       "3  not necessarily the better person - just a \"co...  \n",
       "4  Given what the commented said further up I can...  "
      ]
     },
     "execution_count": 3,
     "metadata": {},
     "output_type": "execute_result"
    }
   ],
   "source": [
    "aita_df = pd.read_csv(\"reddit_aitaR.csv\")\n",
    "print(\"The size of the dataframe is {}.\".format(aita_df.shape))\n",
    "aita_df.head()"
   ]
  },
  {
   "cell_type": "markdown",
   "metadata": {},
   "source": [
    "# Missing Data\n",
    "\n",
    "The missing data isn't because we have incorrectly scrapped the data from the subreddit but rather it is when a moderator(mod) choses to lock the thread early. When a mod does this, it stops all new comments from being uploaded. So the missing data is from user comments where it was locked after the 2nd or 3rd user comment thus the missing data. Therefore we will just fill these missing data with 'No comments allowed'."
   ]
  },
  {
   "cell_type": "code",
   "execution_count": 4,
   "metadata": {},
   "outputs": [
    {
     "data": {
      "text/plain": [
       "Unnamed: 0        0\n",
       "title             0\n",
       "author            0\n",
       "likes             0\n",
       "comments          0\n",
       "story             0\n",
       "user_comment1     0\n",
       "user_comment2     0\n",
       "user_comment3     2\n",
       "user_comment4     2\n",
       "user_comment5     2\n",
       "user_comment6     2\n",
       "user_comment7     2\n",
       "user_comment8     2\n",
       "user_comment9     3\n",
       "user_comment10    3\n",
       "dtype: int64"
      ]
     },
     "execution_count": 4,
     "metadata": {},
     "output_type": "execute_result"
    }
   ],
   "source": [
    "aita_df.isnull().sum()"
   ]
  },
  {
   "cell_type": "code",
   "execution_count": 5,
   "metadata": {},
   "outputs": [
    {
     "data": {
      "text/html": [
       "<div>\n",
       "<style scoped>\n",
       "    .dataframe tbody tr th:only-of-type {\n",
       "        vertical-align: middle;\n",
       "    }\n",
       "\n",
       "    .dataframe tbody tr th {\n",
       "        vertical-align: top;\n",
       "    }\n",
       "\n",
       "    .dataframe thead th {\n",
       "        text-align: right;\n",
       "    }\n",
       "</style>\n",
       "<table border=\"1\" class=\"dataframe\">\n",
       "  <thead>\n",
       "    <tr style=\"text-align: right;\">\n",
       "      <th></th>\n",
       "      <th>Unnamed: 0</th>\n",
       "      <th>title</th>\n",
       "      <th>author</th>\n",
       "      <th>likes</th>\n",
       "      <th>comments</th>\n",
       "      <th>story</th>\n",
       "      <th>user_comment1</th>\n",
       "      <th>user_comment2</th>\n",
       "      <th>user_comment3</th>\n",
       "      <th>user_comment4</th>\n",
       "      <th>user_comment5</th>\n",
       "      <th>user_comment6</th>\n",
       "      <th>user_comment7</th>\n",
       "      <th>user_comment8</th>\n",
       "      <th>user_comment9</th>\n",
       "      <th>user_comment10</th>\n",
       "    </tr>\n",
       "  </thead>\n",
       "  <tbody>\n",
       "    <tr>\n",
       "      <th>1</th>\n",
       "      <td>1</td>\n",
       "      <td>UPDATE: AITA for wanting to go to the funeral ...</td>\n",
       "      <td>sgdneyrother</td>\n",
       "      <td>63.8k</td>\n",
       "      <td>2</td>\n",
       "      <td>I want to sincerely thank everyone who comment...</td>\n",
       "      <td>I want to sincerely thank everyone who comment...</td>\n",
       "      <td>We've chosen to lock this update due to the hi...</td>\n",
       "      <td>NaN</td>\n",
       "      <td>NaN</td>\n",
       "      <td>NaN</td>\n",
       "      <td>NaN</td>\n",
       "      <td>NaN</td>\n",
       "      <td>NaN</td>\n",
       "      <td>NaN</td>\n",
       "      <td>NaN</td>\n",
       "    </tr>\n",
       "    <tr>\n",
       "      <th>501</th>\n",
       "      <td>501</td>\n",
       "      <td>Update! AITA for calling my brothers gf \"miss ...</td>\n",
       "      <td>Salt_Slip</td>\n",
       "      <td>8282</td>\n",
       "      <td>18</td>\n",
       "      <td>I just want to start by saying holy hell. I di...</td>\n",
       "      <td>I just want to start by saying holy hell. I di...</td>\n",
       "      <td>Getting way too close to reading like you're l...</td>\n",
       "      <td>[removed]\\r\\n</td>\n",
       "      <td>[removed]\\r\\n</td>\n",
       "      <td>[removed]\\r\\n</td>\n",
       "      <td>[removed]\\r\\n</td>\n",
       "      <td>[removed]\\r\\n</td>\n",
       "      <td>[removed]\\r\\n</td>\n",
       "      <td>NaN</td>\n",
       "      <td>NaN</td>\n",
       "    </tr>\n",
       "    <tr>\n",
       "      <th>671</th>\n",
       "      <td>671</td>\n",
       "      <td>UPDATE! AITA for not telling my boyfriend I kn...</td>\n",
       "      <td>secretivegfandsis</td>\n",
       "      <td>5603</td>\n",
       "      <td>2</td>\n",
       "      <td>Hey again guys! Thank you all so much for the ...</td>\n",
       "      <td>Hey again guys! Thank you all so much for the ...</td>\n",
       "      <td>Link to original. Because this involves violen...</td>\n",
       "      <td>NaN</td>\n",
       "      <td>NaN</td>\n",
       "      <td>NaN</td>\n",
       "      <td>NaN</td>\n",
       "      <td>NaN</td>\n",
       "      <td>NaN</td>\n",
       "      <td>NaN</td>\n",
       "      <td>NaN</td>\n",
       "    </tr>\n",
       "  </tbody>\n",
       "</table>\n",
       "</div>"
      ],
      "text/plain": [
       "     Unnamed: 0                                              title  \\\n",
       "1             1  UPDATE: AITA for wanting to go to the funeral ...   \n",
       "501         501  Update! AITA for calling my brothers gf \"miss ...   \n",
       "671         671  UPDATE! AITA for not telling my boyfriend I kn...   \n",
       "\n",
       "                author  likes  comments  \\\n",
       "1         sgdneyrother  63.8k         2   \n",
       "501          Salt_Slip   8282        18   \n",
       "671  secretivegfandsis   5603         2   \n",
       "\n",
       "                                                 story  \\\n",
       "1    I want to sincerely thank everyone who comment...   \n",
       "501  I just want to start by saying holy hell. I di...   \n",
       "671  Hey again guys! Thank you all so much for the ...   \n",
       "\n",
       "                                         user_comment1  \\\n",
       "1    I want to sincerely thank everyone who comment...   \n",
       "501  I just want to start by saying holy hell. I di...   \n",
       "671  Hey again guys! Thank you all so much for the ...   \n",
       "\n",
       "                                         user_comment2  user_comment3  \\\n",
       "1    We've chosen to lock this update due to the hi...            NaN   \n",
       "501  Getting way too close to reading like you're l...  [removed]\\r\\n   \n",
       "671  Link to original. Because this involves violen...            NaN   \n",
       "\n",
       "     user_comment4  user_comment5  user_comment6  user_comment7  \\\n",
       "1              NaN            NaN            NaN            NaN   \n",
       "501  [removed]\\r\\n  [removed]\\r\\n  [removed]\\r\\n  [removed]\\r\\n   \n",
       "671            NaN            NaN            NaN            NaN   \n",
       "\n",
       "     user_comment8 user_comment9 user_comment10  \n",
       "1              NaN           NaN            NaN  \n",
       "501  [removed]\\r\\n           NaN            NaN  \n",
       "671            NaN           NaN            NaN  "
      ]
     },
     "execution_count": 5,
     "metadata": {},
     "output_type": "execute_result"
    }
   ],
   "source": [
    "aita_df[aita_df.isnull().any(axis=1)]"
   ]
  },
  {
   "cell_type": "code",
   "execution_count": 6,
   "metadata": {},
   "outputs": [],
   "source": [
    "aita_df.fillna(\"No comments allowed\", inplace=True)"
   ]
  },
  {
   "cell_type": "markdown",
   "metadata": {},
   "source": [
    "# Word Count - Feature\n",
    "\n",
    "A key feature that we can extract from the text is the word count. The word count will include stopwords but it will give us insights like how much the average user types for their title, story and comments. And we can see if these word counts are affected by seasonality or certain themes later on."
   ]
  },
  {
   "cell_type": "code",
   "execution_count": 7,
   "metadata": {},
   "outputs": [],
   "source": [
    "aita_df['story_wordcount'] = aita_df['story'].apply(lambda x: len(x.split()))\n",
    "aita_df['title_wordcount'] = aita_df['title'].apply(lambda x: len(x.split()))"
   ]
  },
  {
   "cell_type": "code",
   "execution_count": 8,
   "metadata": {},
   "outputs": [],
   "source": [
    "user_comment = []\n",
    "for num in range(1,11):\n",
    "    user_comment.append('user_comment{}_wordcount'.format(num))\n",
    "counter = 0\n",
    "for col in range(1, 11):\n",
    "    aita_df['{}'.format(user_comment[counter])] = aita_df['user_comment{}'.format(col)].apply(lambda x: len(x.split()))\n",
    "    counter += 1"
   ]
  },
  {
   "cell_type": "markdown",
   "metadata": {},
   "source": [
    "# Upvotes / likes\n",
    "\n",
    "The likes are done for example like 31.5k or 12k. We will need to replace these strings into int so the model can understand that it is ordinal numerical data. Thus we will replace '.' with '' and k with 00. Then change the variable to an integer."
   ]
  },
  {
   "cell_type": "code",
   "execution_count": 9,
   "metadata": {},
   "outputs": [],
   "source": [
    "aita_df['likes'] = aita_df.likes.apply(lambda x: x.replace('.', ''))\n",
    "aita_df['likes'] = aita_df.likes.apply(lambda x: x.replace('k', '00'))\n",
    "aita_df['likes'] = aita_df['likes'].astype(int)"
   ]
  },
  {
   "cell_type": "markdown",
   "metadata": {},
   "source": [
    "# Age - feature\n",
    "\n",
    "Another key insight we can obtain from some of the stories is that the user sometimes place age. By using the age we can get a general understanding of the common age bracket. For now we will just grab the first age of male and female in the stories. Another option is using the median of all ages located. "
   ]
  },
  {
   "cell_type": "code",
   "execution_count": 10,
   "metadata": {},
   "outputs": [],
   "source": [
    "male_age_re = re.compile('\\d\\d[Mm]')\n",
    "female_age_re = re.compile('\\d\\dF|m')\n",
    "male_age = re.findall(male_age_re, aita_df['story'][3])\n",
    "female_age = re.findall(female_age_re, aita_df['story'][3])"
   ]
  },
  {
   "cell_type": "code",
   "execution_count": 11,
   "metadata": {},
   "outputs": [],
   "source": [
    "male_age_re = re.compile('\\d\\d[Mm]')\n",
    "female_age_re = re.compile('\\d\\d[Ff]')\n",
    "aita_df['male_age'] = aita_df['story'].apply(lambda x: re.findall(male_age_re, x))\n",
    "aita_df['male_age'] = aita_df['male_age'].apply(lambda x: 0 if len(x)== 0 else x[0])\n",
    "aita_df['female_age'] = aita_df['story'].apply(lambda x: re.findall(female_age_re, x))\n",
    "aita_df['female_age'] = aita_df['female_age'].apply(lambda x: 0 if len(x)== 0 else x[0])\n",
    "aita_df['male_age'] = aita_df['male_age'].apply(lambda x: re.sub(r'M|m', r'', str(x)))\n",
    "aita_df['male_age'] = aita_df['male_age'].astype(np.int64)\n",
    "aita_df['female_age'] = aita_df['female_age'].apply(lambda x: re.sub(r'F|f', r'', str(x)))\n",
    "aita_df['female_age'] = aita_df['female_age'].astype(np.int64)"
   ]
  },
  {
   "cell_type": "markdown",
   "metadata": {},
   "source": [
    "# Word cleaning\n",
    "\n",
    "We will begin cleaning the text so we can prepare it for further analysis and modelling. We will be removing all digits, making all text lowercase and getting rid of punctuation and stopwords. Stopwords are words like 'all', 'same' 'if' which are words search engine use to ignore. Lemmatization is the process of reducing inflectional forms and derive forms of words related to a comman base. E.g. different -> differ, boy's -> boy."
   ]
  },
  {
   "cell_type": "code",
   "execution_count": 12,
   "metadata": {},
   "outputs": [],
   "source": [
    "def word_digit_clean(word):\n",
    "    word = ''.join([i for i in word if not i.isdigit()])    \n",
    "    html_tags = re.compile('<.*?>')\n",
    "    return word"
   ]
  },
  {
   "cell_type": "code",
   "execution_count": 13,
   "metadata": {},
   "outputs": [],
   "source": [
    "aita_df['story_clean'] = aita_df['story'].apply(lambda x: word_digit_clean(x))\n",
    "aita_df['title_clean'] = aita_df['title'].apply(lambda x: word_digit_clean(x))\n",
    "user_comment = []\n",
    "for num in range(1,11):\n",
    "    user_comment.append('user_comment{}_clean'.format(num))\n",
    "counter = 0\n",
    "for col in range(1, 11):\n",
    "    aita_df['{}'.format(user_comment[counter])] = aita_df['user_comment{}'.format(col)].apply(lambda x: word_digit_clean(x))\n",
    "    counter += 1"
   ]
  },
  {
   "cell_type": "code",
   "execution_count": 14,
   "metadata": {},
   "outputs": [],
   "source": [
    "tokenizer = RegexpTokenizer(r'\\w+')\n",
    "aita_df['story_clean'] = aita_df['story_clean'].apply(lambda x: tokenizer.tokenize(x.lower()))\n",
    "aita_df['title_clean'] = aita_df['title_clean'].apply(lambda x: tokenizer.tokenize(x.lower()))\n",
    "for col in range(1, 11):\n",
    "    aita_df['user_comment{}_clean'.format(col)] = aita_df['user_comment{}_clean'.format(col)].apply(lambda x:tokenizer.tokenize(x.lower()))\n",
    "    counter += 1"
   ]
  },
  {
   "cell_type": "code",
   "execution_count": 15,
   "metadata": {},
   "outputs": [],
   "source": [
    "def remove_stopwords(text):\n",
    "    words = [word for word in text if word not in stopwords.words('english')]\n",
    "    return words"
   ]
  },
  {
   "cell_type": "code",
   "execution_count": 16,
   "metadata": {},
   "outputs": [],
   "source": [
    "aita_df['story_clean'] = aita_df['story_clean'].apply(lambda x: remove_stopwords(x))\n",
    "aita_df['title_clean'] = aita_df['title_clean'].apply(lambda x: remove_stopwords(x))\n",
    "for col in range(1, 11):\n",
    "    aita_df['user_comment{}_clean'.format(col)] = aita_df['user_comment{}_clean'.format(col)].apply(lambda x: remove_stopwords(x))\n",
    "    counter += 1"
   ]
  },
  {
   "cell_type": "code",
   "execution_count": 17,
   "metadata": {},
   "outputs": [],
   "source": [
    "lemmatizer = WordNetLemmatizer()\n",
    "def word_lemmatizer(text):\n",
    "    lem_text = \" \".join([lemmatizer.lemmatize(i) for i in text])\n",
    "    return lem_text"
   ]
  },
  {
   "cell_type": "code",
   "execution_count": 18,
   "metadata": {},
   "outputs": [],
   "source": [
    "aita_df['story_clean'] = aita_df['story_clean'].apply(lambda x: word_lemmatizer(x))\n",
    "aita_df['title_clean'] = aita_df['title_clean'].apply(lambda x: word_lemmatizer(x))\n",
    "for col in range(1, 11):\n",
    "    aita_df['user_comment{}_clean'.format(col)] = aita_df['user_comment{}_clean'.format(col)].apply(lambda x: word_lemmatizer(x))\n",
    "    counter += 1"
   ]
  },
  {
   "cell_type": "markdown",
   "metadata": {},
   "source": [
    "# Word value counts \n",
    "\n",
    "We will used the clean text from the columns, title, story, usercomments1-10 and determine its frequency of all the words. The goal of this is to create visualisation of what are the common words used for these features. We will visualise it in two ways through a wordcloud and a bar graph. Wordclouds are great for everyday viewers to get some insights from the visualisation however flaws such as longer words appear bigger creates it harder to truly understand the data. Thus the bar graph will implemented to supplement the word cloud. \n",
    "\n",
    "Interactive dashboards will also be planned."
   ]
  },
  {
   "cell_type": "code",
   "execution_count": 19,
   "metadata": {
    "scrolled": true
   },
   "outputs": [],
   "source": [
    "story_wordlist = aita_df['story_clean'].str.split(expand = True).stack().value_counts().astype(int)\n",
    "title_wordlist = aita_df['title_clean'].str.split(expand = True).stack().value_counts().astype(int)\n",
    "user_comment1_wordlist = aita_df['user_comment1_clean'].str.split(expand = True).stack().value_counts().astype(int)\n",
    "user_comment2_wordlist = aita_df['user_comment2_clean'].str.split(expand = True).stack().value_counts().astype(int)\n",
    "user_comment3_wordlist = aita_df['user_comment3_clean'].str.split(expand = True).stack().value_counts().astype(int)\n",
    "user_comment4_wordlist = aita_df['user_comment4_clean'].str.split(expand = True).stack().value_counts().astype(int)\n",
    "user_comment5_wordlist = aita_df['user_comment5_clean'].str.split(expand = True).stack().value_counts().astype(int)\n",
    "user_comment6_wordlist = aita_df['user_comment6_clean'].str.split(expand = True).stack().value_counts().astype(int)\n",
    "user_comment7_wordlist = aita_df['user_comment7_clean'].str.split(expand = True).stack().value_counts().astype(int)\n",
    "user_comment8_wordlist = aita_df['user_comment8_clean'].str.split(expand = True).stack().value_counts().astype(int)\n",
    "user_comment9_wordlist = aita_df['user_comment9_clean'].str.split(expand = True).stack().value_counts().astype(int)\n",
    "user_comment10_wordlist = aita_df['user_comment10_clean'].str.split(expand = True).stack().value_counts().astype(int)"
   ]
  },
  {
   "cell_type": "code",
   "execution_count": 20,
   "metadata": {},
   "outputs": [],
   "source": [
    "story_wordlist_dict = dict(story_wordlist)\n",
    "title_wordlist_dict = dict(title_wordlist)\n",
    "user_comment1_dict = dict(user_comment1_wordlist)\n",
    "user_comment2_dict = dict(user_comment2_wordlist)\n",
    "user_comment3_dict = dict(user_comment3_wordlist)\n",
    "user_comment4_dict = dict(user_comment4_wordlist)\n",
    "user_comment5_dict = dict(user_comment5_wordlist)\n",
    "user_comment6_dict = dict(user_comment6_wordlist)\n",
    "user_comment7_dict = dict(user_comment7_wordlist)\n",
    "user_comment8_dict = dict(user_comment8_wordlist)\n",
    "user_comment9_dict = dict(user_comment9_wordlist)\n",
    "user_comment10_dict = dict(user_comment10_wordlist)"
   ]
  },
  {
   "cell_type": "code",
   "execution_count": 21,
   "metadata": {},
   "outputs": [
    {
     "name": "stdout",
     "output_type": "stream",
     "text": [
      "11498\n",
      "1958\n",
      "11498\n",
      "1905\n",
      "4152\n",
      "4272\n",
      "4320\n",
      "4229\n",
      "4312\n",
      "4361\n",
      "4286\n",
      "4430\n"
     ]
    }
   ],
   "source": [
    "print(len(story_wordlist_dict))\n",
    "print(len(title_wordlist_dict))\n",
    "print(len(user_comment1_dict))\n",
    "print(len(user_comment2_dict))\n",
    "print(len(user_comment3_dict))\n",
    "print(len(user_comment4_dict))\n",
    "print(len(user_comment5_dict))\n",
    "print(len(user_comment6_dict))\n",
    "print(len(user_comment7_dict))\n",
    "print(len(user_comment8_dict))\n",
    "print(len(user_comment9_dict))\n",
    "print(len(user_comment10_dict))"
   ]
  },
  {
   "cell_type": "code",
   "execution_count": 22,
   "metadata": {},
   "outputs": [],
   "source": [
    "story, story_frequency = list(story_wordlist_dict.keys())[:1000], list(story_wordlist_dict.values())[:1000]\n",
    "title, title_frequency = list(title_wordlist_dict.keys())[:1000], list(title_wordlist_dict.values())[:1000]\n",
    "uc1, uc1_frequency = list(user_comment1_dict.keys())[:1000], list(user_comment1_dict.values())[:1000]\n",
    "uc2, uc2_frequency = list(user_comment2_dict.keys())[:1000], list(user_comment2_dict.values())[:1000]\n",
    "uc3, uc3_frequency = list(user_comment3_dict.keys())[:1000], list(user_comment3_dict.values())[:1000]\n",
    "uc4, uc4_frequency = list(user_comment4_dict.keys())[:1000], list(user_comment4_dict.values())[:1000]\n",
    "uc5, uc5_frequency = list(user_comment5_dict.keys())[:1000], list(user_comment5_dict.values())[:1000]\n",
    "uc6, uc6_frequency = list(user_comment6_dict.keys())[:1000], list(user_comment6_dict.values())[:1000]\n",
    "uc7, uc7_frequency = list(user_comment7_dict.keys())[:1000], list(user_comment7_dict.values())[:1000]\n",
    "uc8, uc8_frequency = list(user_comment8_dict.keys())[:1000], list(user_comment8_dict.values())[:1000]\n",
    "uc9, uc9_frequency = list(user_comment9_dict.keys())[:1000], list(user_comment9_dict.values())[:1000]\n",
    "uc10, uc10_frequency = list(user_comment10_dict.keys())[:1000], list(user_comment10_dict.values())[:1000]"
   ]
  },
  {
   "cell_type": "code",
   "execution_count": 40,
   "metadata": {},
   "outputs": [],
   "source": [
    "word_df = word_df.assign(story=story, story_frequency=story_frequency, title=title, title_frequency=title_frequency,\n",
    "                        uc1=uc1, uc1_frequency=uc1_frequency, uc2=uc2, uc2_frequency=uc2_frequency, \n",
    "                        uc3=uc3, uc3_frequency=uc3_frequency, uc4=uc4, uc4_frequency=uc4_frequency, \n",
    "                        uc5=uc5, uc5_frequency=uc5_frequency, uc6=uc6, uc6_frequency=uc6_frequency, \n",
    "                        uc7=uc7, uc7_frequency=uc7_frequency, uc8=uc8, uc8_frequency=uc8_frequency, \n",
    "                        uc9=uc9, uc9_frequency=uc9_frequency, uc10=uc10, uc10_frequency=uc10_frequency)"
   ]
  },
  {
   "cell_type": "code",
   "execution_count": 42,
   "metadata": {},
   "outputs": [],
   "source": [
    "word_df.to_csv('word_frequncy.csv')"
   ]
  },
  {
   "cell_type": "code",
   "execution_count": 69,
   "metadata": {},
   "outputs": [],
   "source": [
    "story_wordcloud = WordCloud(max_font_size=50, max_words=100, background_color=\"white\").generate_from_frequencies(story_wordlist_dict)\n",
    "title_wordcloud = WordCloud(max_font_size=50, max_words=100, background_color=\"white\").generate_from_frequencies(title_wordlist_dict)\n",
    "uc1_wordcloud = WordCloud(max_font_size=50, max_words=100, background_color=\"white\").generate_from_frequencies(user_comment1_dict)\n",
    "uc2_wordcloud = WordCloud(max_font_size=50, max_words=100, background_color=\"white\").generate_from_frequencies(user_comment2_dict)\n",
    "uc3_wordcloud = WordCloud(max_font_size=50, max_words=100, background_color=\"white\").generate_from_frequencies(user_comment3_dict)\n",
    "uc4_wordcloud = WordCloud(max_font_size=50, max_words=100, background_color=\"white\").generate_from_frequencies(user_comment4_dict)\n",
    "uc5_wordcloud = WordCloud(max_font_size=50, max_words=100, background_color=\"white\").generate_from_frequencies(user_comment5_dict)\n",
    "uc6_wordcloud = WordCloud(max_font_size=50, max_words=100, background_color=\"white\").generate_from_frequencies(user_comment6_dict)\n",
    "uc7_wordcloud = WordCloud(max_font_size=50, max_words=100, background_color=\"white\").generate_from_frequencies(user_comment7_dict)\n",
    "uc8_wordcloud = WordCloud(max_font_size=50, max_words=100, background_color=\"white\").generate_from_frequencies(user_comment8_dict)\n",
    "uc9_wordcloud = WordCloud(max_font_size=50, max_words=100, background_color=\"white\").generate_from_frequencies(user_comment9_dict)\n",
    "uc10_wordcloud = WordCloud(max_font_size=50, max_words=100, background_color=\"white\").generate_from_frequencies(user_comment10_dict)"
   ]
  },
  {
   "cell_type": "code",
   "execution_count": 65,
   "metadata": {
    "scrolled": false
   },
   "outputs": [
    {
     "data": {
      "image/png": "[encoded data removed]",
      "text/plain": [
       "<Figure size 432x288 with 1 Axes>"
      ]
     },
     "metadata": {
      "needs_background": "light"
     },
     "output_type": "display_data"
    }
   ],
   "source": [
    "plt.imshow(wordcloud, interpolation='bilinear')\n",
    "plt.axis(\"off\")\n",
    "plt.show()"
   ]
  },
  {
   "cell_type": "code",
   "execution_count": 72,
   "metadata": {},
   "outputs": [
    {
     "data": {
      "text/plain": [
       "<wordcloud.wordcloud.WordCloud at 0x1f4979f02b0>"
      ]
     },
     "execution_count": 72,
     "metadata": {},
     "output_type": "execute_result"
    }
   ],
   "source": [
    "story_wordcloud.to_file(\"story_wordcloud.png\")\n",
    "title_wordcloud.to_file(\"title_wordcloud.png\")\n",
    "uc1_wordcloud.to_file(\"uc1_wordcloud.png\")\n",
    "uc2_wordcloud.to_file(\"uc2_wordcloud.png\")\n",
    "uc3_wordcloud.to_file(\"uc3_wordcloud.png\")\n",
    "uc4_wordcloud.to_file(\"uc4_wordcloud.png\")\n",
    "uc5_wordcloud.to_file(\"uc5_wordcloud.png\")\n",
    "uc6_wordcloud.to_file(\"uc6_wordcloud.png\")\n",
    "uc7_wordcloud.to_file(\"uc7_wordcloud.png\")\n",
    "uc8_wordcloud.to_file(\"uc8_wordcloud.png\")\n",
    "uc9_wordcloud.to_file(\"uc9_wordcloud.png\")\n",
    "uc10_wordcloud.to_file(\"uc10_wordcloud.png\")"
   ]
  },
  {
   "cell_type": "code",
   "execution_count": 80,
   "metadata": {},
   "outputs": [
    {
     "name": "stdout",
     "output_type": "stream",
     "text": [
      "uc1_sns_plot = sns.barplot(x=\"frequency\", y = \"word\", data=word_df[\"uc1\", \"uc1_frequency\"])\n",
      "uc2_sns_plot = sns.barplot(x=\"frequency\", y = \"word\", data=word_df[\"uc2\", \"uc2_frequency\"])\n",
      "uc3_sns_plot = sns.barplot(x=\"frequency\", y = \"word\", data=word_df[\"uc3\", \"uc3_frequency\"])\n",
      "uc4_sns_plot = sns.barplot(x=\"frequency\", y = \"word\", data=word_df[\"uc4\", \"uc4_frequency\"])\n",
      "uc5_sns_plot = sns.barplot(x=\"frequency\", y = \"word\", data=word_df[\"uc5\", \"uc5_frequency\"])\n",
      "uc6_sns_plot = sns.barplot(x=\"frequency\", y = \"word\", data=word_df[\"uc6\", \"uc6_frequency\"])\n",
      "uc7_sns_plot = sns.barplot(x=\"frequency\", y = \"word\", data=word_df[\"uc7\", \"uc7_frequency\"])\n",
      "uc8_sns_plot = sns.barplot(x=\"frequency\", y = \"word\", data=word_df[\"uc8\", \"uc8_frequency\"])\n",
      "uc9_sns_plot = sns.barplot(x=\"frequency\", y = \"word\", data=word_df[\"uc9\", \"uc9_frequency\"])\n",
      "uc10_sns_plot = sns.barplot(x=\"frequency\", y = \"word\", data=word_df[\"uc10\", \"uc10_frequency\"])\n"
     ]
    }
   ],
   "source": [
    "for col in range(1,11):\n",
    "    print('uc{}_sns_plot = sns.barplot(x=\"frequency\", y = \"word\", data=word_df[\"uc{}\", \"uc{}_frequency\"])'.format(col, col, col))"
   ]
  },
  {
   "cell_type": "code",
   "execution_count": 85,
   "metadata": {},
   "outputs": [
    {
     "ename": "ValueError",
     "evalue": "Could not interpret input 'frequency'",
     "output_type": "error",
     "traceback": [
      "\u001b[1;31m---------------------------------------------------------------------------\u001b[0m",
      "\u001b[1;31mValueError\u001b[0m                                Traceback (most recent call last)",
      "\u001b[1;32m<ipython-input-85-179a104b7395>\u001b[0m in \u001b[0;36m<module>\u001b[1;34m\u001b[0m\n\u001b[1;32m----> 1\u001b[1;33m \u001b[0muc1_sns_plot\u001b[0m \u001b[1;33m=\u001b[0m \u001b[0msns\u001b[0m\u001b[1;33m.\u001b[0m\u001b[0mbarplot\u001b[0m\u001b[1;33m(\u001b[0m\u001b[0mx\u001b[0m\u001b[1;33m=\u001b[0m\u001b[1;34m\"frequency\"\u001b[0m\u001b[1;33m,\u001b[0m \u001b[0my\u001b[0m \u001b[1;33m=\u001b[0m \u001b[1;34m\"word\"\u001b[0m\u001b[1;33m,\u001b[0m \u001b[0mdata\u001b[0m\u001b[1;33m=\u001b[0m\u001b[0mword_df\u001b[0m\u001b[1;33m[\u001b[0m\u001b[1;33m[\u001b[0m\u001b[1;34m\"uc1\"\u001b[0m\u001b[1;33m,\u001b[0m \u001b[1;34m\"uc1_frequency\"\u001b[0m\u001b[1;33m]\u001b[0m\u001b[1;33m]\u001b[0m\u001b[1;33m)\u001b[0m\u001b[1;33m\u001b[0m\u001b[1;33m\u001b[0m\u001b[0m\n\u001b[0m",
      "\u001b[1;32m~\\Anaconda3\\lib\\site-packages\\seaborn\\categorical.py\u001b[0m in \u001b[0;36mbarplot\u001b[1;34m(x, y, hue, data, order, hue_order, estimator, ci, n_boot, units, orient, color, palette, saturation, errcolor, errwidth, capsize, dodge, ax, **kwargs)\u001b[0m\n\u001b[0;32m   3147\u001b[0m                           \u001b[0mestimator\u001b[0m\u001b[1;33m,\u001b[0m \u001b[0mci\u001b[0m\u001b[1;33m,\u001b[0m \u001b[0mn_boot\u001b[0m\u001b[1;33m,\u001b[0m \u001b[0munits\u001b[0m\u001b[1;33m,\u001b[0m\u001b[1;33m\u001b[0m\u001b[1;33m\u001b[0m\u001b[0m\n\u001b[0;32m   3148\u001b[0m                           \u001b[0morient\u001b[0m\u001b[1;33m,\u001b[0m \u001b[0mcolor\u001b[0m\u001b[1;33m,\u001b[0m \u001b[0mpalette\u001b[0m\u001b[1;33m,\u001b[0m \u001b[0msaturation\u001b[0m\u001b[1;33m,\u001b[0m\u001b[1;33m\u001b[0m\u001b[1;33m\u001b[0m\u001b[0m\n\u001b[1;32m-> 3149\u001b[1;33m                           errcolor, errwidth, capsize, dodge)\n\u001b[0m\u001b[0;32m   3150\u001b[0m \u001b[1;33m\u001b[0m\u001b[0m\n\u001b[0;32m   3151\u001b[0m     \u001b[1;32mif\u001b[0m \u001b[0max\u001b[0m \u001b[1;32mis\u001b[0m \u001b[1;32mNone\u001b[0m\u001b[1;33m:\u001b[0m\u001b[1;33m\u001b[0m\u001b[1;33m\u001b[0m\u001b[0m\n",
      "\u001b[1;32m~\\Anaconda3\\lib\\site-packages\\seaborn\\categorical.py\u001b[0m in \u001b[0;36m__init__\u001b[1;34m(self, x, y, hue, data, order, hue_order, estimator, ci, n_boot, units, orient, color, palette, saturation, errcolor, errwidth, capsize, dodge)\u001b[0m\n\u001b[0;32m   1605\u001b[0m         \u001b[1;34m\"\"\"Initialize the plotter.\"\"\"\u001b[0m\u001b[1;33m\u001b[0m\u001b[1;33m\u001b[0m\u001b[0m\n\u001b[0;32m   1606\u001b[0m         self.establish_variables(x, y, hue, data, orient,\n\u001b[1;32m-> 1607\u001b[1;33m                                  order, hue_order, units)\n\u001b[0m\u001b[0;32m   1608\u001b[0m         \u001b[0mself\u001b[0m\u001b[1;33m.\u001b[0m\u001b[0mestablish_colors\u001b[0m\u001b[1;33m(\u001b[0m\u001b[0mcolor\u001b[0m\u001b[1;33m,\u001b[0m \u001b[0mpalette\u001b[0m\u001b[1;33m,\u001b[0m \u001b[0msaturation\u001b[0m\u001b[1;33m)\u001b[0m\u001b[1;33m\u001b[0m\u001b[1;33m\u001b[0m\u001b[0m\n\u001b[0;32m   1609\u001b[0m         \u001b[0mself\u001b[0m\u001b[1;33m.\u001b[0m\u001b[0mestimate_statistic\u001b[0m\u001b[1;33m(\u001b[0m\u001b[0mestimator\u001b[0m\u001b[1;33m,\u001b[0m \u001b[0mci\u001b[0m\u001b[1;33m,\u001b[0m \u001b[0mn_boot\u001b[0m\u001b[1;33m)\u001b[0m\u001b[1;33m\u001b[0m\u001b[1;33m\u001b[0m\u001b[0m\n",
      "\u001b[1;32m~\\Anaconda3\\lib\\site-packages\\seaborn\\categorical.py\u001b[0m in \u001b[0;36mestablish_variables\u001b[1;34m(self, x, y, hue, data, orient, order, hue_order, units)\u001b[0m\n\u001b[0;32m    153\u001b[0m                 \u001b[1;32mif\u001b[0m \u001b[0misinstance\u001b[0m\u001b[1;33m(\u001b[0m\u001b[0minput\u001b[0m\u001b[1;33m,\u001b[0m \u001b[0mstring_types\u001b[0m\u001b[1;33m)\u001b[0m\u001b[1;33m:\u001b[0m\u001b[1;33m\u001b[0m\u001b[1;33m\u001b[0m\u001b[0m\n\u001b[0;32m    154\u001b[0m                     \u001b[0merr\u001b[0m \u001b[1;33m=\u001b[0m \u001b[1;34m\"Could not interpret input '{}'\"\u001b[0m\u001b[1;33m.\u001b[0m\u001b[0mformat\u001b[0m\u001b[1;33m(\u001b[0m\u001b[0minput\u001b[0m\u001b[1;33m)\u001b[0m\u001b[1;33m\u001b[0m\u001b[1;33m\u001b[0m\u001b[0m\n\u001b[1;32m--> 155\u001b[1;33m                     \u001b[1;32mraise\u001b[0m \u001b[0mValueError\u001b[0m\u001b[1;33m(\u001b[0m\u001b[0merr\u001b[0m\u001b[1;33m)\u001b[0m\u001b[1;33m\u001b[0m\u001b[1;33m\u001b[0m\u001b[0m\n\u001b[0m\u001b[0;32m    156\u001b[0m \u001b[1;33m\u001b[0m\u001b[0m\n\u001b[0;32m    157\u001b[0m             \u001b[1;31m# Figure out the plotting orientation\u001b[0m\u001b[1;33m\u001b[0m\u001b[1;33m\u001b[0m\u001b[1;33m\u001b[0m\u001b[0m\n",
      "\u001b[1;31mValueError\u001b[0m: Could not interpret input 'frequency'"
     ]
    }
   ],
   "source": [
    "uc1_sns_plot = sns.barplot(x=\"frequency\", y = \"word\", data=word_df[[\"uc1\", \"uc1_frequency\"]])\n"
   ]
  },
  {
   "cell_type": "code",
   "execution_count": 76,
   "metadata": {},
   "outputs": [
    {
     "data": {
      "image/png": "[encoded data removed]",
      "text/plain": [
       "<Figure size 1440x720 with 1 Axes>"
      ]
     },
     "metadata": {},
     "output_type": "display_data"
    }
   ],
   "source": [
    "sns.set(style=\"whitegrid\")\n",
    "plt.figure(figsize=(20, 10))\n",
    "sns_plot = sns.barplot(x=\"frequency\", y=\"word\", data=word_df[:50])"
   ]
  },
  {
   "cell_type": "code",
   "execution_count": 79,
   "metadata": {},
   "outputs": [],
   "source": [
    "sns_plot.figure.savefig(\"wordbar.png\")"
   ]
  },
  {
   "cell_type": "code",
   "execution_count": null,
   "metadata": {},
   "outputs": [],
   "source": []
  }
 ],
 "metadata": {
  "kernelspec": {
   "display_name": "Python 3",
   "language": "python",
   "name": "python3"
  },
  "language_info": {
   "codemirror_mode": {
    "name": "ipython",
    "version": 3
   },
   "file_extension": ".py",
   "mimetype": "text/x-python",
   "name": "python",
   "nbconvert_exporter": "python",
   "pygments_lexer": "ipython3",
   "version": "3.7.3"
  }
 },
 "nbformat": 4,
 "nbformat_minor": 2
}
